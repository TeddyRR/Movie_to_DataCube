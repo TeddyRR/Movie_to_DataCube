{
 "cells": [
  {
   "cell_type": "code",
   "execution_count": null,
   "metadata": {},
   "outputs": [],
   "source": [
    "# import modules\n",
    "import cv2\n",
    "import matplotlib.pyplot as plt\n",
    "import matplotlib.image as mpimg\n",
    "from mayavi import mlab\n",
    "import numpy as np\n",
    "import os"
   ]
  },
  {
   "cell_type": "code",
   "execution_count": null,
   "metadata": {},
   "outputs": [],
   "source": [
    "# extract frames from videos\n",
    "def video_to_frames(video_dir, imgs_dir):\n",
    "    cap = cv2.VideoCapture(video_dir)\n",
    "    \n",
    "    cap.set(cv2.CAP_PROP_FRAME_WIDTH, 500)\n",
    "    cap.set(cv2.CAP_PROP_FRAME_HEIGHT, 500)\n",
    "    \n",
    "    video_length = int(cap.get(cv2.CAP_PROP_FRAME_COUNT)) - 1\n",
    "    count = 0\n",
    "    \n",
    "    while cap.isOpened():\n",
    "        _, frame = cap.read()\n",
    "        cv2.imwrite(imgs_dir + \"/%#05d.jpg\" % (count), frame)\n",
    "        count += 1\n",
    "        \n",
    "        if count == video_length:\n",
    "            cap.release()\n",
    "            break"
   ]
  },
  {
   "cell_type": "code",
   "execution_count": null,
   "metadata": {},
   "outputs": [],
   "source": [
    "# convert RGB to normalized intensity\n",
    "def rgb_to_intensity(img_path):\n",
    "    img_rgb = mpimg.imread(img_path)\n",
    "    x, y, _ = img_rgb.shape\n",
    "\n",
    "    img_intensity = np.zeros((x, y))\n",
    "    for i in range(x):\n",
    "        for j in range(y):\n",
    "            r, g, b = img_rgb[i][j]\n",
    "            img_intensity[i][j] = (0xFFFF * r + 0xFF * g + b) / (0xFFFF + 0xFF + 1) / 0xFF\n",
    "    return img_intensity"
   ]
  },
  {
   "cell_type": "code",
   "execution_count": null,
   "metadata": {},
   "outputs": [],
   "source": [
    "# get video frames\n",
    "video_to_frames('clip.mp4', './test')\n",
    "\n",
    "# remove bad frames. Mostly initial and final frames\n",
    "for img_path in img_paths:\n",
    "    try: \n",
    "        mpimg.imread(img_path)\n",
    "    except OSError:\n",
    "        os.remove(img_path)\n",
    "    else:\n",
    "        pass"
   ]
  },
  {
   "cell_type": "code",
   "execution_count": null,
   "metadata": {},
   "outputs": [],
   "source": [
    "# asemble images into a data cube: each image is a 2D matrix\n",
    "img_folder = './test'\n",
    "img_paths = [os.path.join(img_folder, file_name).replace(\"\\\\\",\"/\") for file_name in os.listdir(img_folder)]\n",
    "\n",
    "# get the cube\n",
    "(x, y, _), z = mpimg.imread(img_paths[0]).shape, len(img_paths)\n",
    "data_cube = np.zeros((x, y, z))\n",
    "for i in range(z):\n",
    "    data_cube[:, :, i] = rgb_to_intensity(img_paths[i])\n",
    "\n",
    "# save cube for furture use\n",
    "np.save('datacube.npy', data_cube)"
   ]
  },
  {
   "cell_type": "code",
   "execution_count": null,
   "metadata": {},
   "outputs": [],
   "source": [
    "# re-load the cube\n",
    "cube = np.load(\"./datacube.npy\")\n",
    "\n",
    "# plot a random image to do a quick check\n",
    "plt.imshow(cube[:, :, 65], cmap = 'plasma');\n",
    "\n",
    "\n",
    "# plot spectra at regions where one of the right device has defect\n",
    "z = cube.shape[2]\n",
    "bias = np.linspace(-2, 2, z )\n",
    "\n",
    "fig, (ax1, ax2) = plt.subplots(2)\n",
    "fig.subplots_adjust(hspace = 0.65)\n",
    "fig.set_size_inches(12,3)\n",
    "\n",
    "fig.text(0.08, 0.5, 'Normalized Signal (a.u.)', va='center', rotation='vertical')\n",
    "ax2.set_xlabel('Sample Bias (V)')\n",
    "\n",
    "ax1.set_title('Spectra from Normal Device')\n",
    "ax2.set_title('Spectra from Defected Device')\n",
    "\n",
    "for i in range(83, 88):\n",
    "    for j in range (27, 33):\n",
    "        ax1.plot(bias, cube[i,j,:], alpha = 0.2, color = 'r');\n",
    "\n",
    "for i in range(85, 90):\n",
    "    for j in range (102, 108):\n",
    "        ax2.plot(bias, cube[i,j,:], alpha = 0.2, color = 'r');\n",
    "\n",
    "fig.savefig(fname = 'Compared Spectra.png', dpi=2**8)"
   ]
  },
  {
   "cell_type": "code",
   "execution_count": null,
   "metadata": {},
   "outputs": [],
   "source": [
    "# use Mayavi for high-dimensional visualization\n",
    "cube = np.load(\"./datacube.npy\")\n",
    "n, m, l = cube.shape\n",
    "\n",
    "X, Y, Z = np.mgrid[0.:n, 0.:m, 0.:l]\n",
    "X *= 1. / n\n",
    "Y *= -1. / m  # flip Y\n",
    "Y += 2  # Mayavi seems to have an offset\n",
    "Z *= 1. / l\n",
    "\n",
    "scalar_field = mlab.pipeline.scalar_field(X, Y, Z, cube)\n",
    "\n",
    "scalar_cut_plane_1 = mlab.pipeline.scalar_cut_plane(\n",
    "    scalar_field, plane_orientation=\"z_axes\")\n",
    "scalar_cut_plane_1.implicit_plane.widget.origin = [.5, .5, .5]\n",
    "\n",
    "del X, Y, Z, cube"
   ]
  }
 ],
 "metadata": {
  "kernelspec": {
   "display_name": "Python 3",
   "language": "python",
   "name": "python3"
  },
  "language_info": {
   "codemirror_mode": {
    "name": "ipython",
    "version": 3
   },
   "file_extension": ".py",
   "mimetype": "text/x-python",
   "name": "python",
   "nbconvert_exporter": "python",
   "pygments_lexer": "ipython3",
   "version": "3.7.0"
  }
 },
 "nbformat": 4,
 "nbformat_minor": 2
}
